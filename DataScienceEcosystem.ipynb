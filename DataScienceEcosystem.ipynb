{
 "cells": [
  {
   "cell_type": "markdown",
   "id": "d0c96227-a44c-4000-bde5-ad4d8c5a7e9a",
   "metadata": {
    "tags": []
   },
   "source": [
    "# Data Science Tools and Ecosystem"
   ]
  },
  {
   "cell_type": "markdown",
   "id": "8ea1c2f3-6aee-4677-8a83-e11a56ebc66b",
   "metadata": {},
   "source": [
    "# Introduction\n",
    "In this notebook, Data Science Tools and Ecosystem are summarized."
   ]
  },
  {
   "cell_type": "markdown",
   "id": "192fab3c-7f6e-4c66-bbc6-55cea70a2551",
   "metadata": {},
   "source": [
    "# Overview\n",
    "Some of the popular languages that Data Scientists use are:\n",
    "1. R\n",
    "2. Python\n",
    "3. Java"
   ]
  },
  {
   "cell_type": "markdown",
   "id": "a56699e6-de21-41a7-be68-38774a7f92c1",
   "metadata": {},
   "source": [
    "Some of the commonly used libraries used by Data Scientists include:\n",
    "1. Numpy\n",
    "2. ggplot\n",
    "3. Pandas"
   ]
  },
  {
   "cell_type": "markdown",
   "id": "2f03b976-537e-46f2-aae7-d5ce767da34d",
   "metadata": {},
   "source": [
    "| Data Science Tools |\n",
    "|-------------|\n",
    "|R studio    |\n",
    "|Jupiter Lab |\n",
    "|GitHub      |\n",
    "|Visual Studio Code |"
   ]
  },
  {
   "cell_type": "markdown",
   "id": "b2ab6ac5-c296-43e9-b233-485f7e910d72",
   "metadata": {},
   "source": [
    "### Below are a few examples of evaluating arithmetic expressions in Python"
   ]
  },
  {
   "cell_type": "code",
   "execution_count": null,
   "id": "a5173ce2-a077-4c50-98da-4adbe1087e5e",
   "metadata": {
    "tags": []
   },
   "outputs": [],
   "source": [
    "result = 5 + 3 * 2\n",
    "print(result)  # Output: 11"
   ]
  },
  {
   "cell_type": "code",
   "execution_count": 2,
   "id": "f914faec-e7e9-428a-98b8-9e9a1dd8f75b",
   "metadata": {
    "tags": []
   },
   "outputs": [
    {
     "data": {
      "text/plain": [
       "17"
      ]
     },
     "execution_count": 2,
     "metadata": {},
     "output_type": "execute_result"
    }
   ],
   "source": [
    "#This a simple arithmetic expression to mutiply then add integers\n",
    "(3*4)+5"
   ]
  },
  {
   "cell_type": "code",
   "execution_count": 3,
   "id": "539c48c9-e8ba-4cee-949a-c57f7b010a1e",
   "metadata": {
    "tags": []
   },
   "outputs": [
    {
     "name": "stdout",
     "output_type": "stream",
     "text": [
      "3.3333333333333335\n"
     ]
    }
   ],
   "source": [
    "#This will convert 200 minutes to hours by diving by 60\n",
    "minutes = 200\n",
    "hours = minutes / 60\n",
    "\n",
    "# Display the result\n",
    "print(hours)"
   ]
  },
  {
   "cell_type": "markdown",
   "id": "0ae916e1-4622-4bb7-9215-61b4156a68e9",
   "metadata": {},
   "source": [
    "**Objectives:**\n",
    "- List popular languages for Data Science.\n",
    "- Explain the basics of arithmetic expressions in Python.\n",
    "- Provide examples of using markdown cells for documentation."
   ]
  },
  {
   "cell_type": "markdown",
   "id": "1790015f-ebda-42a6-83d7-4dd1cb60d46a",
   "metadata": {},
   "source": [
    "## Author \n",
    "Yilan Liu"
   ]
  },
  {
   "cell_type": "code",
   "execution_count": null,
   "id": "cc53e4ad-90a4-47a8-93b8-13cb88fc4aa6",
   "metadata": {},
   "outputs": [],
   "source": []
  }
 ],
 "metadata": {
  "kernelspec": {
   "display_name": "Python",
   "language": "python",
   "name": "conda-env-python-py"
  },
  "language_info": {
   "codemirror_mode": {
    "name": "ipython",
    "version": 3
   },
   "file_extension": ".py",
   "mimetype": "text/x-python",
   "name": "python",
   "nbconvert_exporter": "python",
   "pygments_lexer": "ipython3",
   "version": "3.7.12"
  }
 },
 "nbformat": 4,
 "nbformat_minor": 5
}
